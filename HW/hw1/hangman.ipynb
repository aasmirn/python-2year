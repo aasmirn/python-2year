{
 "cells": [
  {
   "cell_type": "code",
   "execution_count": null,
   "metadata": {},
   "outputs": [],
   "source": [
    "import random\n",
    "\n"
   ]
  },
  {
   "cell_type": "code",
   "execution_count": null,
   "metadata": {},
   "outputs": [],
   "source": [
    "def make_list(fname):\n",
    "    #создаёт список слов из текстового файла\n",
    "    with open(fname, encoding='utf-8') as f:\n",
    "        words = f.read().split(', ')\n",
    "    return(words)\n",
    "\n",
    "\n",
    "def draw_person(n):\n",
    "    #рисует человечка в зависимости от числа оставшихся попыток\n",
    "    person = ' |\\n O\\n/|\\\\\\n/ \\\\'\n",
    "    if n == 6:\n",
    "        person = person[:2]\n",
    "    elif n == 5:\n",
    "        person = person[:5]\n",
    "    elif n == 4:\n",
    "        person = person[:7]\n",
    "    elif n == 3:\n",
    "        person = person[:8]\n",
    "    elif n == 2:\n",
    "        person = person[:9]\n",
    "    elif n == 1:\n",
    "        person = person[:11]\n",
    "    return person\n",
    "\n",
    "\n",
    "def trial(n):\n",
    "    #склоняет слово \"попытка\"\n",
    "    if n == 1: \n",
    "        ftry = 'попытка'\n",
    "    elif n >= 2 and n <= 4:\n",
    "        ftry = 'попытки'\n",
    "    else:\n",
    "        ftry = 'попыток'\n",
    "    return ftry\n",
    "\n"
   ]
  },
  {
   "cell_type": "code",
   "execution_count": null,
   "metadata": {},
   "outputs": [],
   "source": [
    "def choose_word():\n",
    "    #выбирает слово в зависимости от темы\n",
    "    print('''\n",
    "    Выберите тему:\n",
    "        введите 1, чтобы выбрать \"страны Африки\"\n",
    "        введите 2, чтобы выбрать \"формы итальянской пасты\"\n",
    "        введите 3, чтобы выбрать \"языки России\"\n",
    "    ''')\n",
    "    topic = input()\n",
    "    while topic != '1' and topic != '2' and topic != '3':\n",
    "        print('Что-то пошло не так. Введите 1, 2 или 3, чтобы выбрать тему.')\n",
    "        topic = input()\n",
    "    if topic == '1':\n",
    "        fname = 'africa.txt'\n",
    "    elif topic == '2':\n",
    "        fname = 'pasta.txt'\n",
    "    elif topic == '3':\n",
    "        fname = 'languages.txt'\n",
    "    word = random.choice(make_list(fname))\n",
    "    return word\n",
    "\n"
   ]
  },
  {
   "cell_type": "code",
   "execution_count": null,
   "metadata": {},
   "outputs": [],
   "source": [
    "def game(word):\n",
    "    #играет в виелицу\n",
    "    key = word\n",
    "    n = 7\n",
    "    letters = ['а', 'б', 'в', 'г', 'д', 'е', 'ё', 'ж', 'з', 'и', 'й', 'к', 'л', 'м', 'н', 'о', 'п', 'р',\n",
    "               'с', 'т', 'у', 'ф', 'х', 'ц', 'ч', 'ш', 'щ', 'ъ', 'ы', 'ь', 'э', 'ю', 'я']\n",
    "    used = []\n",
    "    show = '_ ' * len(word)\n",
    "    print(show)\n",
    "    print('У вас есть', n, trial(n) + ', чтобы угадать слово из', len(word), 'букв.')\n",
    "    while n > 0 and '_' in show:\n",
    "        letter = input('Введите букву русского алфавита: ').lower()\n",
    "        while letter not in letters or letter in used:\n",
    "            if letter not in letters:\n",
    "                letter = input('Кажется, это не совсем буква. Попробуйте ещё раз: ')\n",
    "            if letter in used:\n",
    "                letter = input('Вы уже вводили эту букву! Попробуйте ещё раз: ')\n",
    "        used.append(letter)\n",
    "        if letter in word:\n",
    "            i = word.index(letter)\n",
    "            word = word[:i] + '.' + word[i+1:]\n",
    "            show = show[:i * 2] + letter + show[i*2 + 1:]\n",
    "            while letter in word:\n",
    "                i = word.index(letter)\n",
    "                word = word[:i] + '.' + word[i+1:]\n",
    "                show = show[:i * 2] + letter + show[i*2 + 1:]\n",
    "        else:\n",
    "            n -= 1\n",
    "            print(draw_person(n))\n",
    "            print('К сожалению, этой буквы нет в слове. Теперь у Вас есть только', n, trial(n) + '.')\n",
    "        print(show)\n",
    "    if n == 0:\n",
    "        print('К сожалению, Вы проиграли. Это было слово', key + '.')\n",
    "    elif '_' not in show:\n",
    "        print('Поздравляю, Вы угадали слово!')\n",
    "        \n",
    "        "
   ]
  },
  {
   "cell_type": "code",
   "execution_count": null,
   "metadata": {},
   "outputs": [],
   "source": [
    "def main():\n",
    "    game(choose_word())\n",
    "    print('Хотите сыграть ещё раз?')\n",
    "    choice = input('Введите 1, если ответ положительный :) ')\n",
    "    while choice == '1':\n",
    "        game(choose_word())\n",
    "        print('Хотите сыграть ещё раз?')\n",
    "        choice = input('Введите 1, если ответ положительный :) ')\n",
    "        \n",
    "        "
   ]
  },
  {
   "cell_type": "code",
   "execution_count": null,
   "metadata": {},
   "outputs": [],
   "source": [
    "if __name__ == '__main__': \n",
    "    main()"
   ]
  }
 ],
 "metadata": {
  "kernelspec": {
   "display_name": "Python 3",
   "language": "python",
   "name": "python3"
  },
  "language_info": {
   "codemirror_mode": {
    "name": "ipython",
    "version": 3
   },
   "file_extension": ".py",
   "mimetype": "text/x-python",
   "name": "python",
   "nbconvert_exporter": "python",
   "pygments_lexer": "ipython3",
   "version": "3.6.2"
  }
 },
 "nbformat": 4,
 "nbformat_minor": 2
}
