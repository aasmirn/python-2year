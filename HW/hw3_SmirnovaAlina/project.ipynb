{
 "cells": [
  {
   "cell_type": "code",
   "execution_count": 1,
   "metadata": {},
   "outputs": [],
   "source": [
    "#эта программа была написана на Windows; совместимость с терминалами других ОС гарантирована быть не может :(\n",
    "#положите программу в папку с mystem.exe\n",
    "#обратите внимание: т.к. программа генерирует текст для чтения (.html) вместо plain, строки с @ закомментированы"
   ]
  },
  {
   "cell_type": "code",
   "execution_count": 2,
   "metadata": {},
   "outputs": [],
   "source": [
    "import urllib.request\n",
    "import os\n",
    "import shutil\n",
    "from bs4 import BeautifulSoup\n",
    "import re\n",
    "import time\n",
    "\n"
   ]
  },
  {
   "cell_type": "code",
   "execution_count": 3,
   "metadata": {},
   "outputs": [],
   "source": [
    "def download_page(pageUrl):\n",
    "    try:\n",
    "        page = urllib.request.urlopen(pageUrl)\n",
    "        text = page.read().decode('utf-8')\n",
    "        soup = BeautifulSoup(text, 'html.parser')\n",
    "        return soup\n",
    "    except Exception as err:\n",
    "        print('Error', err, 'at', pageUrl)\n",
    "        return\n",
    "            \n",
    "        "
   ]
  },
  {
   "cell_type": "code",
   "execution_count": 4,
   "metadata": {},
   "outputs": [],
   "source": [
    "def catalogue(date, ftype):\n",
    "    khanty = os.path.join(path, 'Khanty_yasang', ftype)\n",
    "    folder = os.path.join(khanty, date[-4:], date[3:5])\n",
    "    if not os.path.exists(folder):\n",
    "        os.makedirs(folder)\n",
    "    return folder\n",
    "    \n",
    "    "
   ]
  },
  {
   "cell_type": "code",
   "execution_count": 5,
   "metadata": {},
   "outputs": [],
   "source": [
    "def read_mode(article, author, title, date, topic, source, thelink, path):\n",
    "    paragraphs = []\n",
    "    imgs = []\n",
    "    for div in article.find_all('div', {'class': 'field-name-field-body-russian'}):\n",
    "        for p in div.find_all('p', {'class': None}):\n",
    "            paragraphs.append(p)\n",
    "    for img in article.find_all('img', {'class': None}):\n",
    "        if 'default_images' not in str(img) and 'yandex' not in str(img) and 'authors' not in str(img):\n",
    "            if img not in imgs:\n",
    "                imgs.append(img)\n",
    "    folder = catalogue(date, 'plain')\n",
    "    fname = os.path.join(folder, thelink[-4:]) + '.html'\n",
    "    with open(fname, 'w', encoding='utf-8') as f:\n",
    "        f.write('''<!--@au %s\n",
    "@ti %s\n",
    "@da %s\n",
    "@topic %s\n",
    "@url %s\n",
    "-->\\n''' % (author, title, date, topic, source))\n",
    "        if len(imgs) > 0:\n",
    "            f.write(str(imgs[0]))\n",
    "        if len(paragraphs) > 0:\n",
    "            for p in paragraphs:\n",
    "                f.write(str(p) + '\\n')\n",
    "        if len(imgs) > 1:\n",
    "            for img in imgs[1:]:\n",
    "                f.write(str(img)+ '\\n')\n",
    "    return fname\n"
   ]
  },
  {
   "cell_type": "code",
   "execution_count": 6,
   "metadata": {},
   "outputs": [],
   "source": [
    "def mystem(fname, date, thelink):\n",
    "    with open(fname, encoding='utf-8') as f:\n",
    "        text = f.read()\n",
    "    with open('plain_text.txt', 'w', encoding='utf-8') as f:\n",
    "        f.write(re.sub(r'<.*?>', '', re.sub(r'<!--.*?-->\\n', '', re.sub(r'@.*?\\n', '', text))))\n",
    "    plain_folder = catalogue(date, 'mystem-plain')\n",
    "    plain_name = thelink[-4:] + '.txt'\n",
    "    os.system('mystem.exe plain_text.txt -clid --eng-gr ' + plain_name)\n",
    "    shutil.move(os.path.join(path, plain_name), plain_folder)\n",
    "    xml_folder = catalogue(date, 'mystem-xml')\n",
    "    xml_name = thelink[-4:] + '.xml'\n",
    "    os.system('mystem.exe plain_text.txt -clid --eng-gr --format xml ' + xml_name)\n",
    "    shutil.move(os.path.join(path, xml_name), xml_folder)\n",
    "    \n",
    "    "
   ]
  },
  {
   "cell_type": "code",
   "execution_count": 7,
   "metadata": {},
   "outputs": [],
   "source": [
    "def get_articles(issue_link):\n",
    "    issue = download_page(base + issue_link)\n",
    "    for article_link in issue.find_all('a', {'rel': 'tag'}):\n",
    "        thelink = article_link.get('href')\n",
    "        source = base + thelink\n",
    "        article = download_page(source)\n",
    "        try:\n",
    "            author = article.find('div', {'class': 'view-author-article'}).get_text().strip()\n",
    "        except AttributeError:\n",
    "            author = 'None'\n",
    "        titles = article.find_all('div', {'class': 'field-title'})\n",
    "        if len(titles) > 1:\n",
    "            title = titles[1].get_text().strip()\n",
    "        elif len(titles) == 1:\n",
    "            title = titles[0].get_text().strip()\n",
    "        else:\n",
    "            title = 'None'\n",
    "        get_date = article.find('div', {'class': 'data'}).get_text()\n",
    "        raw_date =  re.sub(r'(\\d{2})/(\\d{2})/(\\d{4})', r'\\2.\\1.\\3', get_date)\n",
    "        date = re.findall(r'\\d{2}\\.\\d{2}\\.\\d{4}', raw_date)[0]\n",
    "        try:\n",
    "            topic = article.find('div', {'class': 'field-name-field-rubric-khanty'}).get_text().split(' - ')[1].strip()\n",
    "        except AttributeError:\n",
    "            topic = 'None'\n",
    "        fname = read_mode(article, author, title, date, topic, source, thelink, path)\n",
    "        with open('Khanty_yasang\\meta.csv', 'a', encoding='utf-8') as f:\n",
    "            f.write('%s\\t%s\\t%s\\t%s\\tпублицистика\\t%s\\tнейтральный\\tн-возраст\\tн-уровень\\\n",
    "\\tокружная\\t%s\\tХӑнты ясаӈ\\t%s\\tгазета\\tРоссия\\tХМАО\\tru\\\n",
    "\\n' % (fname[-38:], author, title, date, topic, source, date[-4:]))\n",
    "            f.close()\n",
    "        mystem(fname, date, thelink)\n",
    "        \n",
    "            "
   ]
  },
  {
   "cell_type": "code",
   "execution_count": 8,
   "metadata": {},
   "outputs": [],
   "source": [
    "def main():\n",
    "    try:\n",
    "        os.mkdir('Khanty_yasang')\n",
    "    except FileExistsError:\n",
    "        pass\n",
    "    with open('Khanty_yasang\\meta.csv', 'w', encoding='utf-8') as f:\n",
    "        f.write('path\\tauthor\\theader\\tcreated\\tsphere\\ttopic\\tstyle\\taudience_age\\taudience_level\\\n",
    "    \\taudience_size\\tsource\\tpublication\\tpubl_year\\tmedium\\tcountry\\tregion\\tlanguage\\n')\n",
    "        f.close()\n",
    "    year = 2017\n",
    "    link = download_page(url + str(year))\n",
    "    for year_number in link.find_all('span', {'class': 'field-content'}):\n",
    "        for number in year_number.find_all('a'):\n",
    "            issue_link = number.get('href')\n",
    "            get_articles(issue_link)\n",
    "            time.sleep(2)\n",
    "    os.remove('plain_text.txt')"
   ]
  },
  {
   "cell_type": "code",
   "execution_count": 9,
   "metadata": {},
   "outputs": [],
   "source": [
    "if __name__ == '__main__':\n",
    "    base = 'http://www.khanty-yasang.ru'\n",
    "    url = 'http://www.khanty-yasang.ru/khanty-yasang/archive/'\n",
    "    path = os.getcwd()\n",
    "    main()"
   ]
  }
 ],
 "metadata": {
  "kernelspec": {
   "display_name": "Python 3",
   "language": "python",
   "name": "python3"
  },
  "language_info": {
   "codemirror_mode": {
    "name": "ipython",
    "version": 3
   },
   "file_extension": ".py",
   "mimetype": "text/x-python",
   "name": "python",
   "nbconvert_exporter": "python",
   "pygments_lexer": "ipython3",
   "version": "3.6.2"
  }
 },
 "nbformat": 4,
 "nbformat_minor": 2
}
