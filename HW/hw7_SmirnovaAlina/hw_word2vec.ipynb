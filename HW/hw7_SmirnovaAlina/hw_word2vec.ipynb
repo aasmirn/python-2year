{
 "cells": [
  {
   "cell_type": "code",
   "execution_count": 0,
   "metadata": {
    "colab": {},
    "colab_type": "code",
    "id": "sgtDnCdYbCzA"
   },
   "outputs": [],
   "source": [
    "import urllib\n",
    "from gensim.models import word2vec, KeyedVectors\n",
    "import networkx as nx\n",
    "import numpy as np"
   ]
  },
  {
   "cell_type": "code",
   "execution_count": 0,
   "metadata": {
    "colab": {},
    "colab_type": "code",
    "id": "UlEMGTVGbCzF"
   },
   "outputs": [],
   "source": [
    "#можете выбрать свою модель или загрузить эту (тогда раскомментируйте)\n",
    "#urllib.request.urlretrieve(\"http://rusvectores.org/static/models/rusvectores2/ruscorpora_mystem_cbow_300_2_2015.bin.gz\",\n",
    "#                           \"ruscorpora_mystem_cbow_300_2_2015.bin.gz\")\n",
    "\n",
    "#m = 'ruscorpora_mystem_cbow_300_2_2015.bin.gz'\n",
    "\n",
    "if m.endswith('.vec.gz'):\n",
    "    model = KeyedVectors.load_word2vec_format(m, binary=False)\n",
    "elif m.endswith('.bin.gz'):\n",
    "    model = KeyedVectors.load_word2vec_format(m, binary=True)\n",
    "else:\n",
    "    model = KeyedVectors.load(m)"
   ]
  },
  {
   "cell_type": "code",
   "execution_count": 0,
   "metadata": {
    "colab": {},
    "colab_type": "code",
    "id": "gXaKNW-ybCzJ"
   },
   "outputs": [],
   "source": [
    "with open('etnonyms.txt', encoding='utf-8') as f:\n",
    "    text = f.read().split()\n",
    "names = [name + '_S' for name in text]"
   ]
  },
  {
   "cell_type": "code",
   "execution_count": 0,
   "metadata": {
    "colab": {},
    "colab_type": "code",
    "id": "3D98kdNSbCzM"
   },
   "outputs": [],
   "source": [
    "nodes = []\n",
    "for name in names:\n",
    "    if name in model:\n",
    "        nodes.append(name)"
   ]
  },
  {
   "cell_type": "code",
   "execution_count": 0,
   "metadata": {
    "colab": {
     "base_uri": "https://localhost:8080/",
     "height": 34
    },
    "colab_type": "code",
    "id": "Mir6pL6CbCzQ",
    "outputId": "6d820202-bc57-4efe-ac9f-fca9c37985c9"
   },
   "outputs": [
    {
     "data": {
      "text/plain": [
       "['швейцарка_S', 'венгр_S', 'славянин_S']"
      ]
     },
     "execution_count": 35,
     "metadata": {
      "tags": []
     },
     "output_type": "execute_result"
    }
   ],
   "source": [
    "#осторожно, если это перезапустить, граф и интерпретации будут уже неправильными\n",
    "#посмотрите сначала на то, что у меня есть, а потом уже запускайте, пожалуйста\n",
    "\n",
    "first_nodes = random.sample(nodes, 3)\n",
    "first_nodes"
   ]
  },
  {
   "cell_type": "code",
   "execution_count": 0,
   "metadata": {
    "colab": {},
    "colab_type": "code",
    "id": "vrsamhknke0d"
   },
   "outputs": [],
   "source": [
    "def add_nodes(graph, to_nodes):\n",
    "    for node in to_nodes:\n",
    "        similar = model.most_similar(node)\n",
    "        most_sim = [i[0] for i in similar if i[1] > 0.5 and i[0].endswith('_S')]\n",
    "        graph.add_nodes_from(most_sim)\n",
    "        graph.add_edges_from([(node, sim_node) for sim_node in most_sim])"
   ]
  },
  {
   "cell_type": "code",
   "execution_count": 0,
   "metadata": {
    "colab": {
     "base_uri": "https://localhost:8080/",
     "height": 71
    },
    "colab_type": "code",
    "id": "bWcoJC4ybCzb",
    "outputId": "def1cb60-cf8d-4ea3-8111-e56ade4f8095"
   },
   "outputs": [
    {
     "name": "stderr",
     "output_type": "stream",
     "text": [
      "/usr/local/lib/python3.6/dist-packages/gensim/matutils.py:737: FutureWarning: Conversion of the second argument of issubdtype from `int` to `np.signedinteger` is deprecated. In future, it will be treated as `np.int64 == np.dtype(int).type`.\n",
      "  if np.issubdtype(vec.dtype, np.int):\n"
     ]
    }
   ],
   "source": [
    "G = nx.Graph()\n",
    "G.add_nodes_from(first_nodes)\n",
    "add_nodes(G, first_nodes)\n",
    "second_nodes = list(G.nodes())\n",
    "for fn in first_nodes:\n",
    "    second_nodes.remove(fn)\n",
    "add_nodes(G, second_nodes)"
   ]
  },
  {
   "cell_type": "code",
   "execution_count": 0,
   "metadata": {
    "colab": {
     "base_uri": "https://localhost:8080/",
     "height": 34
    },
    "colab_type": "code",
    "id": "uJZSHad9895X",
    "outputId": "d11cb0ff-2869-441d-e774-9b6571e92f1b"
   },
   "outputs": [
    {
     "data": {
      "text/plain": [
       "array(['немец_S', 'француз_S', 'украинец_S'], dtype='<U19')"
      ]
     },
     "execution_count": 88,
     "metadata": {
      "tags": []
     },
     "output_type": "execute_result"
    }
   ],
   "source": [
    "items = nx.degree_centrality(G).items()\n",
    "matrix = np.array([[item[0] for item in items], [item[1] for item in items]])\n",
    "matrix[0][matrix[1].argsort()][:-4:-1]"
   ]
  },
  {
   "cell_type": "code",
   "execution_count": 0,
   "metadata": {
    "colab": {
     "base_uri": "https://localhost:8080/",
     "height": 34
    },
    "colab_type": "code",
    "id": "7J2Igv3ClBj0",
    "outputId": "2674281a-1098-4194-b89e-1e24b9f0e4b0"
   },
   "outputs": [
    {
     "data": {
      "text/plain": [
       "array(['украинец_S', 'немец_S', 'болгарин_S'], dtype='<U22')"
      ]
     },
     "execution_count": 91,
     "metadata": {
      "tags": []
     },
     "output_type": "execute_result"
    }
   ],
   "source": [
    "items = nx.betweenness_centrality(G).items()\n",
    "matrix = np.array([[item[0] for item in items], [item[1] for item in items]])\n",
    "matrix[0][matrix[1].argsort()][:-4:-1]"
   ]
  },
  {
   "cell_type": "code",
   "execution_count": 0,
   "metadata": {
    "colab": {
     "base_uri": "https://localhost:8080/",
     "height": 34
    },
    "colab_type": "code",
    "id": "1ZxgsCkClj5S",
    "outputId": "82a09404-72cf-4f57-ad36-57906e366e28"
   },
   "outputs": [
    {
     "data": {
      "text/plain": [
       "array(['венгр_S', 'поляк_S', 'немец_S'], dtype='<U19')"
      ]
     },
     "execution_count": 92,
     "metadata": {
      "tags": []
     },
     "output_type": "execute_result"
    }
   ],
   "source": [
    "items = nx.closeness_centrality(G).items()\n",
    "matrix = np.array([[item[0] for item in items], [item[1] for item in items]])\n",
    "matrix[0][matrix[1].argsort()][:-4:-1]"
   ]
  },
  {
   "cell_type": "code",
   "execution_count": 0,
   "metadata": {
    "colab": {
     "base_uri": "https://localhost:8080/",
     "height": 34
    },
    "colab_type": "code",
    "id": "pKb5-Qbgl7SB",
    "outputId": "c40d2213-8692-457f-8443-1ad1f246dad7"
   },
   "outputs": [
    {
     "data": {
      "text/plain": [
       "array(['швейцарка_S', 'немец_S', 'француз_S'], dtype='<U20')"
      ]
     },
     "execution_count": 93,
     "metadata": {
      "tags": []
     },
     "output_type": "execute_result"
    }
   ],
   "source": [
    "items = nx.eigenvector_centrality(G).items()\n",
    "matrix = np.array([[item[0] for item in items], [item[1] for item in items]])\n",
    "matrix[0][matrix[1].argsort()][:-4:-1]"
   ]
  },
  {
   "cell_type": "code",
   "execution_count": 0,
   "metadata": {
    "colab": {
     "base_uri": "https://localhost:8080/",
     "height": 102
    },
    "colab_type": "code",
    "id": "tKH4en7_mKWy",
    "outputId": "3826e917-f641-4fe7-872d-fb2d9d9b7897"
   },
   "outputs": [
    {
     "name": "stdout",
     "output_type": "stream",
     "text": [
      "Плотность: 0.10512820512820513\n",
      "Граф несвязный, диаметр бесконечный\n",
      "Граф несвязный, радиус не считается\n",
      "Коэффициент кластеризации: 0.3430952380952381\n",
      "Коэффициент ассортативности: -0.4619564452327661\n"
     ]
    }
   ],
   "source": [
    "from networkx.exception import NetworkXError\n",
    "\n",
    "print('Плотность:', nx.density(G))\n",
    "try:\n",
    "    print('Диаметр:', nx.diameter(G))\n",
    "except NetworkXError:\n",
    "    print('Граф несвязный, диаметр бесконечный')\n",
    "try:\n",
    "    print('Радиус:', nx.radius(G))\n",
    "except NetworkXError:\n",
    "    print('Граф несвязный, радиус не считается')\n",
    "print('Коэффициент кластеризации:', nx.average_clustering(G))\n",
    "print('Коэффициент ассортативности:', nx.degree_pearson_correlation_coefficient(G))"
   ]
  },
  {
   "cell_type": "code",
   "execution_count": 0,
   "metadata": {
    "colab": {
     "base_uri": "https://localhost:8080/",
     "height": 629
    },
    "colab_type": "code",
    "id": "Qs2e_kMjqCbK",
    "outputId": "ae55c0a7-020e-4869-b20f-d5f91edddd80"
   },
   "outputs": [
    {
     "data": {
      "text/plain": [
       "[frozenset({'австриец_S',\n",
       "            'американец_S',\n",
       "            'англичанин_S',\n",
       "            'бельгиец_S',\n",
       "            'гитлеровец_S',\n",
       "            'голландец_S',\n",
       "            'испанец_S',\n",
       "            'итальянец_S',\n",
       "            'немец_S',\n",
       "            'португалец_S',\n",
       "            'пруссак_S',\n",
       "            'фашист_S',\n",
       "            'француз_S',\n",
       "            'швед_S',\n",
       "            'шведов_S',\n",
       "            'японец_S'}),\n",
       " frozenset({'армянин_S',\n",
       "            'белорус_S',\n",
       "            'грузин_S',\n",
       "            'еврей_S',\n",
       "            'латыш_S',\n",
       "            'литовец_S',\n",
       "            'малоросс_S',\n",
       "            'поляк_S',\n",
       "            'поляков_S',\n",
       "            'славянин_S',\n",
       "            'татарин_S',\n",
       "            'украинец_S'}),\n",
       " frozenset({'венгр_S',\n",
       "            'румын_S',\n",
       "            'словак_S',\n",
       "            'словенец_S',\n",
       "            'финн_S',\n",
       "            'чех_S'}),\n",
       " frozenset({'болгарин_S', 'серб_S', 'турок_S', 'хорват_S', 'черногорец_S'}),\n",
       " frozenset({'швейцарка_S'})]"
      ]
     },
     "execution_count": 105,
     "metadata": {
      "tags": []
     },
     "output_type": "execute_result"
    }
   ],
   "source": [
    "from networkx.algorithms import community\n",
    "\n",
    "\n",
    "com = community.greedy_modularity_communities(G)\n",
    "com"
   ]
  },
  {
   "cell_type": "markdown",
   "metadata": {
    "colab_type": "text",
    "id": "bPGZ94mt583I"
   },
   "source": [
    "Первый кластер содержит западных европейцев, гитлеровцев и фашистов, а также непонятно как затесавшихся японцев.\n",
    "Второй кластер -- в основном жители ближнего зарубежья и примкнувшие к ним татарин и еврей.\n",
    "Третий кластер очень странный, но похож на не очень далёкую Европу.\n",
    "Четвёртый кластер -- что-то очень балканское.\n",
    "А швейцарка вообще не связана ни с чем (потому что женского рода?)"
   ]
  },
  {
   "cell_type": "code",
   "execution_count": 0,
   "metadata": {
    "colab": {},
    "colab_type": "code",
    "id": "KneILja_RysF"
   },
   "outputs": [],
   "source": [
    "def color_nodes(G, pos, nodes, color):\n",
    "    nx.draw_networkx_nodes(G, pos, node_color=color, nodelist=nodes,\n",
    "                       node_size=[v * 30 for v in d.values()], alpha=0.7)"
   ]
  },
  {
   "cell_type": "code",
   "execution_count": 123,
   "metadata": {
    "colab": {
     "base_uri": "https://localhost:8080/",
     "height": 248
    },
    "colab_type": "code",
    "id": "u0E9Z3r5bCzw",
    "outputId": "6e3c5f4c-5f75-46ff-cdf1-163def6f000f"
   },
   "outputs": [
    {
     "data": {
      "image/png": "[encoded data removed]",
      "text/plain": [
       "<Figure size 432x288 with 1 Axes>"
      ]
     },
     "metadata": {
      "tags": []
     },
     "output_type": "display_data"
    }
   ],
   "source": [
    "import matplotlib.pyplot as plt\n",
    "from matplotlib import style\n",
    "\n",
    "\n",
    "style.use('ggplot') \n",
    "\n",
    "pos=nx.kamada_kawai_layout(G)\n",
    "d = dict(G.degree)\n",
    "colors = ['r', 'g', 'b', 'y', 'c', 'm']\n",
    "i = 0\n",
    "for gcom in com:\n",
    "    color_nodes(G, pos, gcom, colors[i])\n",
    "    i += 1\n",
    "nx.draw_networkx_edges(G, pos, edge_color='grey')\n",
    "nx.draw_networkx_labels(G, pos, font_size=8, font_family='Arial')\n",
    "plt.axis('off')\n",
    "plt.show()"
   ]
  }
 ],
 "metadata": {
  "colab": {
   "collapsed_sections": [],
   "name": "hw word2vec.ipynb",
   "provenance": [],
   "version": "0.3.2"
  },
  "kernelspec": {
   "display_name": "Python 3",
   "language": "python",
   "name": "python3"
  },
  "language_info": {
   "codemirror_mode": {
    "name": "ipython",
    "version": 3
   },
   "file_extension": ".py",
   "mimetype": "text/x-python",
   "name": "python",
   "nbconvert_exporter": "python",
   "pygments_lexer": "ipython3",
   "version": "3.6.2"
  }
 },
 "nbformat": 4,
 "nbformat_minor": 1
}
