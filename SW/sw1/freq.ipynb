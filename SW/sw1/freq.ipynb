{
 "cells": [
  {
   "cell_type": "code",
   "execution_count": null,
   "metadata": {},
   "outputs": [],
   "source": [
    "import re\n",
    "import random\n",
    "\n"
   ]
  },
  {
   "cell_type": "code",
   "execution_count": null,
   "metadata": {},
   "outputs": [],
   "source": [
    "def fopen(fname):\n",
    "    with open(fname, encoding='utf-8') as f:\n",
    "        text = f.read().lower()\n",
    "        text = re.sub(r'\\W', ' ', text)\n",
    "    return text.split()\n",
    "    \n",
    "    \n",
    "def make_dict(text):\n",
    "    d = {}\n",
    "    for word in text:\n",
    "        if word in d:\n",
    "            d[word] += 1\n",
    "        else:\n",
    "            d[word] = 1\n",
    "    return d\n",
    "           \n",
    "    \n",
    "def sort_dict(d):\n",
    "    for k in list(d):\n",
    "        if d[k] < 3:\n",
    "            del d[k]\n",
    "    return d\n",
    "\n",
    "\n",
    "def choose_word(d, l, n):\n",
    "    words = []\n",
    "    for k in list(d):\n",
    "        if k.startswith(l) and len(k) == n:\n",
    "            words.append(k)\n",
    "    return words\n",
    "\n"
   ]
  },
  {
   "cell_type": "code",
   "execution_count": null,
   "metadata": {},
   "outputs": [],
   "source": [
    "def make_list(d):\n",
    "    letter = ''\n",
    "    while letter == '':\n",
    "        letter = input('Введите букву русского алфавита, на которую должно начинаться слово: ')\n",
    "        if len(letter) != 1 or letter not in 'абвгдеёжзийклмнопрстуфхцчшщъыьэюя':\n",
    "            print('Кажется, это совсем не буква русского алфавита. Попробуйте ещё раз.')\n",
    "            letter = ''\n",
    "    length = ''\n",
    "    while length == '':\n",
    "        length = input('Введите желаемую длину слова: ')\n",
    "        try:\n",
    "            n = int(length)\n",
    "        except ValueError:\n",
    "            print('Кажется, слово не может быть такой длины. Попробуйте ещё раз')\n",
    "            length = ''\n",
    "    words = choose_word(d, letter, n)\n",
    "    return words\n",
    "\n"
   ]
  },
  {
   "cell_type": "code",
   "execution_count": null,
   "metadata": {},
   "outputs": [],
   "source": [
    "def main():\n",
    "    print('Эта программа найдёт вам слово с частотностью больше 3 в поэме \"Облако в штанах\" В.В.Маяковского.')\n",
    "    text = fopen('poem.txt')\n",
    "    d = sort_dict(make_dict(text))\n",
    "    words = make_list(d)\n",
    "    while len(words) == 0:\n",
    "        print('В частотном списке текста нет таких слов. Попробуйте ещё раз.')\n",
    "        words = make_list(d)\n",
    "    if len(words) == 1:\n",
    "        print('Слово, которое вы искали:', words[0])\n",
    "    else:\n",
    "        print('Одно из слов, которое вам подходит:', random.choice(words))\n",
    "        \n",
    "        "
   ]
  },
  {
   "cell_type": "code",
   "execution_count": null,
   "metadata": {
    "scrolled": true
   },
   "outputs": [],
   "source": [
    "if __name__ == '__main__':\n",
    "    main()"
   ]
  }
 ],
 "metadata": {
  "kernelspec": {
   "display_name": "Python 3",
   "language": "python",
   "name": "python3"
  },
  "language_info": {
   "codemirror_mode": {
    "name": "ipython",
    "version": 3
   },
   "file_extension": ".py",
   "mimetype": "text/x-python",
   "name": "python",
   "nbconvert_exporter": "python",
   "pygments_lexer": "ipython3",
   "version": "3.6.2"
  }
 },
 "nbformat": 4,
 "nbformat_minor": 2
}
